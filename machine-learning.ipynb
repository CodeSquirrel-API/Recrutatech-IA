{
 "cells": [
  {
   "cell_type": "markdown",
   "metadata": {},
   "source": [
    "# Conexão com banco"
   ]
  },
  {
   "cell_type": "code",
   "execution_count": 130,
   "metadata": {},
   "outputs": [
    {
     "name": "stdout",
     "output_type": "stream",
     "text": [
      "Conexão bem-sucedida!\n"
     ]
    }
   ],
   "source": [
    "import psycopg2\n",
    "import pandas as pd\n",
    "import psycopg2\n",
    "from IPython.display import display\n",
    "\n",
    "host = \"silly.db.elephantsql.com\"\n",
    "port = \"5432\"\n",
    "database = \"ljppladj\"\n",
    "user = \"ljppladj\"\n",
    "password = \"JFgtpa3EjnB6zOJ75ejGn_gUOl8-dy3j\"\n",
    "\n",
    "try:\n",
    "    conn = psycopg2.connect(\n",
    "        host=host,\n",
    "        port=port,\n",
    "        database=database,\n",
    "        user=user,\n",
    "        password=password\n",
    "    )\n",
    "    print(\"Conexão bem-sucedida!\")\n",
    "except Exception as e:\n",
    "    print(f\"Erro ao conectar: {e}\")\n"
   ]
  },
  {
   "cell_type": "markdown",
   "metadata": {},
   "source": [
    "# Populando dataframe"
   ]
  },
  {
   "cell_type": "code",
   "execution_count": 131,
   "metadata": {},
   "outputs": [],
   "source": [
    "# Crie um cursor para executar comandos SQL no banco de dados\n",
    "cursor = conn.cursor()\n",
    "\n",
    "# Execute a consulta SQL para juntar as tabelas e obter os dados desejados\n",
    "cursor.execute(\"\"\"\n",
    "  SELECT \n",
    "        candidates.cnd_id, \n",
    "        candidates.cnd_name, \n",
    "        candidates.cnd_current_profession, \n",
    "        candidates.cnd_experience, \n",
    "        skl_skill.skl_name as skill,\n",
    "        knw_knowledge.knw_name as knowledge,\n",
    "        att_attitude.att_name as attitude\n",
    "    FROM candidates\n",
    "    LEFT JOIN candidate_skill ON candidates.cnd_id = candidate_skill.cnd_id\n",
    "    LEFT JOIN skl_skill ON candidate_skill.knw_id = skl_skill.skl_id\n",
    "    LEFT JOIN knw_knowledge ON skl_skill.skl_id = knw_knowledge.knw_id\n",
    "    LEFT JOIN candidate_attitude ON candidates.cnd_id = candidate_attitude.cnd_id\n",
    "    LEFT JOIN att_attitude ON candidate_attitude.knw_id = att_attitude.att_id\n",
    "\n",
    "\"\"\")\n",
    "\n",
    "df = pd.DataFrame(cursor.fetchall(), columns=[desc[0] for desc in cursor.description])\n",
    "\n",
    "# Remover duplicatas mantendo apenas as colunas relevantes\n",
    "df_skills = df[['cnd_id', 'cnd_name', 'cnd_experience', 'skill']].drop_duplicates()\n",
    "df_knowledge = df[['cnd_id', 'cnd_name', 'cnd_experience', 'knowledge']].drop_duplicates()\n",
    "df_attitude = df[['cnd_id', 'cnd_name', 'cnd_experience', 'attitude']].drop_duplicates()\n",
    "\n",
    "# display(df_skills)\n",
    "# display(df_knowledge)\n",
    "# display(df_attitude)\n",
    "\n",
    "cursor.close()"
   ]
  },
  {
   "cell_type": "markdown",
   "metadata": {},
   "source": [
    "# Tratamento de dados"
   ]
  },
  {
   "cell_type": "code",
   "execution_count": 137,
   "metadata": {},
   "outputs": [],
   "source": [
    "from sklearn.feature_extraction.text import CountVectorizer\n",
    "from sklearn.naive_bayes import MultinomialNB\n",
    "from sklearn.pipeline import make_pipeline\n",
    "from sklearn.model_selection import train_test_split\n",
    "\n",
    "\n",
    "desenvolvedor = {\n",
    "    'profissao': 'Desenvolvedor Back-End',\n",
    "    'habilidades': [\n",
    "        'Python', \n",
    "        'Java', \n",
    "        'Node.js', \n",
    "        'MySQL',\n",
    "        'PostgreSQL'\n",
    "    ],\n",
    "    'conhecimentos': [\n",
    "        'Manipulação de Dados',\n",
    "        'Conhecimento em SQL',\n",
    "    ],\n",
    "    'atitudes': [\n",
    "        'Lógica de Programação',\n",
    "        'Resolução de Problemas',\n",
    "        'Criatividade',\n",
    "    ]\n",
    "}\n",
    "\n",
    "\n",
    "habilidades = desenvolvedor['habilidades']\n",
    "conhecimentos = desenvolvedor['conhecimentos']\n",
    "atitudes = desenvolvedor['atitudes']\n",
    "\n",
    "df_skills['tem_habilidade'] = 0\n",
    "df_knowledge['tem_conhecimento'] = 0\n",
    "df_attitude['tem_atitude'] = 0\n",
    "\n",
    "# Iterar sobre as habilidades e marcar como 1 se presente na coluna 'skill'\n",
    "# Para as habilidades\n",
    "for habilidade in habilidades:\n",
    "    df_skills['tem_habilidade'] = (df_skills['tem_habilidade'] | df_skills['skill'].fillna('').str.contains(habilidade, case=False)).astype(int)\n",
    "\n",
    "# Para os conhecimentos\n",
    "for conhecimento in conhecimentos:\n",
    "    df_knowledge['tem_conhecimento'] = (df_knowledge['tem_conhecimento'] | df_knowledge['knowledge'].fillna('').str.contains(conhecimento, case=False)).astype(int)\n",
    "\n",
    "# Para as atitudes\n",
    "for atitude in atitudes:\n",
    "    df_attitude['tem_atitude'] = (df_attitude['tem_atitude'] | df_attitude['attitude'].fillna('').str.contains(atitude, case=False)).astype(int)\n",
    "\n",
    "\n",
    "# display(df_skills)\n",
    "# display(df_knowledge)\n",
    "# display(df_attitude)\n"
   ]
  },
  {
   "cell_type": "markdown",
   "metadata": {},
   "source": [
    "# Treinamento dos dados"
   ]
  },
  {
   "cell_type": "code",
   "execution_count": 133,
   "metadata": {},
   "outputs": [
    {
     "ename": "KeyError",
     "evalue": "'CHA'",
     "output_type": "error",
     "traceback": [
      "\u001b[1;31m---------------------------------------------------------------------------\u001b[0m",
      "\u001b[1;31mKeyError\u001b[0m                                  Traceback (most recent call last)",
      "File \u001b[1;32mc:\\Users\\Tria-0155\\AppData\\Local\\Programs\\Python\\Python311\\Lib\\site-packages\\pandas\\core\\indexes\\base.py:3790\u001b[0m, in \u001b[0;36mIndex.get_loc\u001b[1;34m(self, key)\u001b[0m\n\u001b[0;32m   3789\u001b[0m \u001b[39mtry\u001b[39;00m:\n\u001b[1;32m-> 3790\u001b[0m     \u001b[39mreturn\u001b[39;00m \u001b[39mself\u001b[39;49m\u001b[39m.\u001b[39;49m_engine\u001b[39m.\u001b[39;49mget_loc(casted_key)\n\u001b[0;32m   3791\u001b[0m \u001b[39mexcept\u001b[39;00m \u001b[39mKeyError\u001b[39;00m \u001b[39mas\u001b[39;00m err:\n",
      "File \u001b[1;32mindex.pyx:152\u001b[0m, in \u001b[0;36mpandas._libs.index.IndexEngine.get_loc\u001b[1;34m()\u001b[0m\n",
      "File \u001b[1;32mindex.pyx:181\u001b[0m, in \u001b[0;36mpandas._libs.index.IndexEngine.get_loc\u001b[1;34m()\u001b[0m\n",
      "File \u001b[1;32mpandas\\_libs\\hashtable_class_helper.pxi:7080\u001b[0m, in \u001b[0;36mpandas._libs.hashtable.PyObjectHashTable.get_item\u001b[1;34m()\u001b[0m\n",
      "File \u001b[1;32mpandas\\_libs\\hashtable_class_helper.pxi:7088\u001b[0m, in \u001b[0;36mpandas._libs.hashtable.PyObjectHashTable.get_item\u001b[1;34m()\u001b[0m\n",
      "\u001b[1;31mKeyError\u001b[0m: 'CHA'",
      "\nThe above exception was the direct cause of the following exception:\n",
      "\u001b[1;31mKeyError\u001b[0m                                  Traceback (most recent call last)",
      "\u001b[1;32mc:\\Users\\Tria-0155\\OneDrive - Tria Software\\Fatec\\API\\Recrutatech-IA\\machine-learning.ipynb Cell 4\u001b[0m line \u001b[0;36m1\n\u001b[1;32m----> <a href='vscode-notebook-cell:/c%3A/Users/Tria-0155/OneDrive%20-%20Tria%20Software/Fatec/API/Recrutatech-IA/machine-learning.ipynb#W3sZmlsZQ%3D%3D?line=0'>1</a>\u001b[0m dfCandidatos[\u001b[39m'\u001b[39m\u001b[39mCHA\u001b[39m\u001b[39m'\u001b[39m] \u001b[39m=\u001b[39m dfCandidatos[\u001b[39m'\u001b[39;49m\u001b[39mCHA\u001b[39;49m\u001b[39m'\u001b[39;49m] \u001b[39m+\u001b[39m \u001b[39m'\u001b[39m\u001b[39m \u001b[39m\u001b[39m'\u001b[39m \u001b[39m+\u001b[39m cha_vaga\n\u001b[0;32m      <a href='vscode-notebook-cell:/c%3A/Users/Tria-0155/OneDrive%20-%20Tria%20Software/Fatec/API/Recrutatech-IA/machine-learning.ipynb#W3sZmlsZQ%3D%3D?line=2'>3</a>\u001b[0m X \u001b[39m=\u001b[39m dfCandidatos[[\u001b[39m'\u001b[39m\u001b[39mCHA\u001b[39m\u001b[39m'\u001b[39m, \u001b[39m'\u001b[39m\u001b[39mcha_vaga\u001b[39m\u001b[39m'\u001b[39m]]\n\u001b[0;32m      <a href='vscode-notebook-cell:/c%3A/Users/Tria-0155/OneDrive%20-%20Tria%20Software/Fatec/API/Recrutatech-IA/machine-learning.ipynb#W3sZmlsZQ%3D%3D?line=3'>4</a>\u001b[0m y \u001b[39m=\u001b[39m dfCandidatos[\u001b[39m'\u001b[39m\u001b[39mRotulo\u001b[39m\u001b[39m'\u001b[39m]\n",
      "File \u001b[1;32mc:\\Users\\Tria-0155\\AppData\\Local\\Programs\\Python\\Python311\\Lib\\site-packages\\pandas\\core\\frame.py:3896\u001b[0m, in \u001b[0;36mDataFrame.__getitem__\u001b[1;34m(self, key)\u001b[0m\n\u001b[0;32m   3894\u001b[0m \u001b[39mif\u001b[39;00m \u001b[39mself\u001b[39m\u001b[39m.\u001b[39mcolumns\u001b[39m.\u001b[39mnlevels \u001b[39m>\u001b[39m \u001b[39m1\u001b[39m:\n\u001b[0;32m   3895\u001b[0m     \u001b[39mreturn\u001b[39;00m \u001b[39mself\u001b[39m\u001b[39m.\u001b[39m_getitem_multilevel(key)\n\u001b[1;32m-> 3896\u001b[0m indexer \u001b[39m=\u001b[39m \u001b[39mself\u001b[39;49m\u001b[39m.\u001b[39;49mcolumns\u001b[39m.\u001b[39;49mget_loc(key)\n\u001b[0;32m   3897\u001b[0m \u001b[39mif\u001b[39;00m is_integer(indexer):\n\u001b[0;32m   3898\u001b[0m     indexer \u001b[39m=\u001b[39m [indexer]\n",
      "File \u001b[1;32mc:\\Users\\Tria-0155\\AppData\\Local\\Programs\\Python\\Python311\\Lib\\site-packages\\pandas\\core\\indexes\\base.py:3797\u001b[0m, in \u001b[0;36mIndex.get_loc\u001b[1;34m(self, key)\u001b[0m\n\u001b[0;32m   3792\u001b[0m     \u001b[39mif\u001b[39;00m \u001b[39misinstance\u001b[39m(casted_key, \u001b[39mslice\u001b[39m) \u001b[39mor\u001b[39;00m (\n\u001b[0;32m   3793\u001b[0m         \u001b[39misinstance\u001b[39m(casted_key, abc\u001b[39m.\u001b[39mIterable)\n\u001b[0;32m   3794\u001b[0m         \u001b[39mand\u001b[39;00m \u001b[39many\u001b[39m(\u001b[39misinstance\u001b[39m(x, \u001b[39mslice\u001b[39m) \u001b[39mfor\u001b[39;00m x \u001b[39min\u001b[39;00m casted_key)\n\u001b[0;32m   3795\u001b[0m     ):\n\u001b[0;32m   3796\u001b[0m         \u001b[39mraise\u001b[39;00m InvalidIndexError(key)\n\u001b[1;32m-> 3797\u001b[0m     \u001b[39mraise\u001b[39;00m \u001b[39mKeyError\u001b[39;00m(key) \u001b[39mfrom\u001b[39;00m \u001b[39merr\u001b[39;00m\n\u001b[0;32m   3798\u001b[0m \u001b[39mexcept\u001b[39;00m \u001b[39mTypeError\u001b[39;00m:\n\u001b[0;32m   3799\u001b[0m     \u001b[39m# If we have a listlike key, _check_indexing_error will raise\u001b[39;00m\n\u001b[0;32m   3800\u001b[0m     \u001b[39m#  InvalidIndexError. Otherwise we fall through and re-raise\u001b[39;00m\n\u001b[0;32m   3801\u001b[0m     \u001b[39m#  the TypeError.\u001b[39;00m\n\u001b[0;32m   3802\u001b[0m     \u001b[39mself\u001b[39m\u001b[39m.\u001b[39m_check_indexing_error(key)\n",
      "\u001b[1;31mKeyError\u001b[0m: 'CHA'"
     ]
    }
   ],
   "source": [
    "# dfCandidatos['CHA'] = dfCandidatos['CHA'] + ' ' + cha_vaga\n",
    "\n",
    "# X = dfCandidatos[['CHA', 'cha_vaga']]\n",
    "# y = dfCandidatos['Rotulo']\n",
    "# X_combined = X['CHA'] + ' ' + X['cha_vaga']\n",
    "\n",
    "# teste = dfCandidatos['skills']\n",
    "# X_train, X_test, y_train, y_test = train_test_split(teste, y, train_size=0.33, random_state=42)\n",
    "\n",
    "# # Modelo de classificação\n",
    "# model = make_pipeline(CountVectorizer(), MultinomialNB())\n",
    "# model.fit(X_train, y_train)\n",
    "\n",
    "# y_pred = model.predict(X_test)\n",
    "# # print(metrics.accur   acy_score(y_test, y_pred))\n",
    "\n",
    "# # Obtendo as probabilidades previstas pelo modelo para a classe 'apto'\n",
    "# probabilidades_apto = model.predict_proba(X_test)[:, 0]\n",
    "\n",
    "# # # Adicionando as probabilidades ao DataFrame\n",
    "# dfCandidatos.loc[X_test.index, 'Probabilidade_Apto'] = probabilidades_apto\n",
    "\n",
    "# # # Ordenando os candidatos pela probabilidade de serem 'apto'\n",
    "# candidatos_ordenados = dfCandidatos.sort_values(by='Probabilidade_Apto', ascending=False)\n",
    "\n",
    "# # # Selecionando os 3 candidatos mais prováveis\n",
    "# top_candidatos = candidatos_ordenados.head(6)\n",
    "\n",
    "# accuracy = model.score(X_test, y_test)\n",
    "\n",
    "# display(top_candidatos)"
   ]
  }
 ],
 "metadata": {
  "kernelspec": {
   "display_name": "Python 3",
   "language": "python",
   "name": "python3"
  },
  "language_info": {
   "codemirror_mode": {
    "name": "ipython",
    "version": 3
   },
   "file_extension": ".py",
   "mimetype": "text/x-python",
   "name": "python",
   "nbconvert_exporter": "python",
   "pygments_lexer": "ipython3",
   "version": "3.11.3"
  }
 },
 "nbformat": 4,
 "nbformat_minor": 2
}
