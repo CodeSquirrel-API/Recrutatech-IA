{
 "cells": [
  {
   "cell_type": "code",
   "execution_count": 138,
   "metadata": {},
   "outputs": [
    {
     "name": "stdout",
     "output_type": "stream",
     "text": [
      "Erro ao conectar: \n"
     ]
    }
   ],
   "source": [
    "import psycopg2\n",
    "import pandas as pd\n",
    "import psycopg2\n",
    "from IPython.display import display\n",
    "\n",
    "\n",
    "host = \"host\"\n",
    "port = \"5432\"\n",
    "database = \"db\"\n",
    "user = \"username\"\n",
    "password = \"passowrd\"\n",
    "\n",
    "try:\n",
    "    conn = psycopg2.connect(\n",
    "        host=host,\n",
    "        port=port,\n",
    "        database=database,\n",
    "        user=user,\n",
    "        password=password\n",
    "    )\n",
    "    print(\"Conexão bem-sucedida!\")\n",
    "except Exception as e:\n",
    "    print(f\"Erro ao conectar: {e}\")\n"
   ]
  },
  {
   "cell_type": "code",
   "execution_count": 137,
   "metadata": {},
   "outputs": [
    {
     "data": {
      "text/html": [
       "<div>\n",
       "<style scoped>\n",
       "    .dataframe tbody tr th:only-of-type {\n",
       "        vertical-align: middle;\n",
       "    }\n",
       "\n",
       "    .dataframe tbody tr th {\n",
       "        vertical-align: top;\n",
       "    }\n",
       "\n",
       "    .dataframe thead th {\n",
       "        text-align: right;\n",
       "    }\n",
       "</style>\n",
       "<table border=\"1\" class=\"dataframe\">\n",
       "  <thead>\n",
       "    <tr style=\"text-align: right;\">\n",
       "      <th></th>\n",
       "      <th>cnd_id</th>\n",
       "      <th>cnd_age</th>\n",
       "      <th>cnd_name</th>\n",
       "      <th>cnd_current_profession</th>\n",
       "      <th>cnd_experiences</th>\n",
       "      <th>skill_name</th>\n",
       "      <th>skill_description</th>\n",
       "      <th>knowledge_name</th>\n",
       "      <th>knowledge_description</th>\n",
       "      <th>attitude_name</th>\n",
       "      <th>attitude_description</th>\n",
       "    </tr>\n",
       "  </thead>\n",
       "  <tbody>\n",
       "    <tr>\n",
       "      <th>0</th>\n",
       "      <td>2</td>\n",
       "      <td>20</td>\n",
       "      <td>José</td>\n",
       "      <td>dev jr</td>\n",
       "      <td>empresa xpto 3 anos</td>\n",
       "      <td>skill</td>\n",
       "      <td>dkill descr</td>\n",
       "      <td>123123</td>\n",
       "      <td>123</td>\n",
       "      <td>123</td>\n",
       "      <td>strasdxasding</td>\n",
       "    </tr>\n",
       "  </tbody>\n",
       "</table>\n",
       "</div>"
      ],
      "text/plain": [
       "   cnd_id  cnd_age cnd_name cnd_current_profession      cnd_experiences  \\\n",
       "0       2       20     José                 dev jr  empresa xpto 3 anos   \n",
       "\n",
       "  skill_name skill_description knowledge_name knowledge_description  \\\n",
       "0      skill       dkill descr         123123                   123   \n",
       "\n",
       "  attitude_name attitude_description  \n",
       "0           123        strasdxasding  "
      ]
     },
     "metadata": {},
     "output_type": "display_data"
    }
   ],
   "source": [
    "# Crie um cursor para executar comandos SQL no banco de dados\n",
    "cursor = conn.cursor()\n",
    "\n",
    " # Crie um cursor para executar comandos SQL no banco de dados\n",
    "# Execute a consulta SQL para juntar as tabelas e obter os dados desejados\n",
    "cursor.execute(\"\"\"\n",
    "    SELECT \n",
    "        candidates.cnd_id, \n",
    "        candidates.cnd_age, \n",
    "        candidates.cnd_name, \n",
    "        candidates.cnd_current_profession, \n",
    "        candidates.cnd_experiences, \n",
    "        skl_skill.skl_name as skill_name, \n",
    "        skl_skill.skl_description as skill_description, \n",
    "        knw_knowledge.knw_name as knowledge_name, \n",
    "        knw_knowledge.knw_description as knowledge_description, \n",
    "        att_attitude.att_name as attitude_name, \n",
    "        att_attitude.att_description as attitude_description\n",
    "    FROM candidates\n",
    "    INNER JOIN candidate_skill ON candidates.cnd_id = candidate_skill.cnd_id\n",
    "    INNER JOIN skl_skill ON candidate_skill.knw_id = skl_skill.skl_id\n",
    "    INNER JOIN knw_knowledge ON skl_skill.skl_id = knw_knowledge.knw_id\n",
    "    INNER JOIN candidate_attitude ON candidates.cnd_id = candidate_attitude.cnd_id\n",
    "    INNER JOIN att_attitude ON candidate_attitude.knw_id = att_attitude.att_id\n",
    "\"\"\")\n",
    "\n",
    "\n",
    "# Recupereatodos os registros armazena em um DataFrame\n",
    "df = pd.DataFrame(cursor.fetchall(), columns=[desc[0] for desc in cursor.description])\n",
    "display(df)\n",
    "\n",
    "cursor.close()\n",
    "\n",
    "\n"
   ]
  }
 ],
 "metadata": {
  "kernelspec": {
   "display_name": "Python 3",
   "language": "python",
   "name": "python3"
  },
  "language_info": {
   "codemirror_mode": {
    "name": "ipython",
    "version": 3
   },
   "file_extension": ".py",
   "mimetype": "text/x-python",
   "name": "python",
   "nbconvert_exporter": "python",
   "pygments_lexer": "ipython3",
   "version": "3.11.3"
  }
 },
 "nbformat": 4,
 "nbformat_minor": 2
}
